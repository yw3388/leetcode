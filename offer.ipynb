{
 "cells": [
  {
   "cell_type": "markdown",
   "metadata": {},
   "source": [
    "剪去绳子"
   ]
  },
  {
   "cell_type": "markdown",
   "metadata": {},
   "source": [
    "给你一根长度为 n 的绳子，请把绳子剪成整数长度的 m 段（m、n都是整数，n>1并且m>1），每段绳子的长度记为 k[0],k[1]...k[m-1] 。请问 k[0]*k[1]*...*k[m-1] 可能的最大乘积是多少？例如，当绳子的长度是8时，我们把它剪成长度分别为2、3、3的三段，此时得到的最大乘积是18。\n"
   ]
  },
  {
   "cell_type": "markdown",
   "metadata": {},
   "source": [
    "solution  F(n) = max(i * F(n-i), i * (n-i))， i= 1， 2， 。。。n-2"
   ]
  },
  {
   "cell_type": "markdown",
   "metadata": {},
   "source": [
    "递归：剩下部分可以剪开，可以不剪开\n",
    "\n",
    "时间O（2**N）\n",
    "空间 O（2 ** N）"
   ]
  },
  {
   "cell_type": "code",
   "execution_count": 69,
   "metadata": {},
   "outputs": [],
   "source": [
    "def cuttingRope(n):\n",
    "    if n == 2:\n",
    "        return 1\n",
    "    res = -1\n",
    "    #从1到n-1长度的剪法\n",
    "    for i in range(1, n):\n",
    "        res = max(res, max(i * cuttingRope(n-i)), i * (n-i))\n",
    "    return res\n",
    "    "
   ]
  },
  {
   "cell_type": "markdown",
   "metadata": {},
   "source": [
    "状态转移：\n",
    "dp[i] = max(dp[i], max((i-j)* j, j * dp[i-j])\n",
    "            not cut i-j              cut i-j\n",
    "            \n",
    "            i: j * (i-j) 在j处剪开\n",
    "               j * dp(i-j） 在j剪开，之后长度i-j绳子不剪开\n",
    "               i    保持原来，不剪开\n",
    "               \n",
    "               \n",
    "               空间O（n）\n",
    "               时间 O(n**2)"
   ]
  },
  {
   "cell_type": "code",
   "execution_count": 15,
   "metadata": {},
   "outputs": [],
   "source": [
    "def cuttingRope(n):\n",
    "    dp = [0 for _ in range(n+1)]\n",
    "    #长度=2 的绳子最大乘积1, dp[0] no meaning\n",
    "    dp[1] = 1\n",
    "    dp[2]= 1\n",
    "    for i in range(3, n+1):\n",
    "        for j in range(i):\n",
    "            dp[i] = max(dp[i], j * ( i - j), j * dp[i-j])\n",
    "    return dp[n]"
   ]
  },
  {
   "cell_type": "code",
   "execution_count": 17,
   "metadata": {},
   "outputs": [
    {
     "data": {
      "text/plain": [
       "1"
      ]
     },
     "execution_count": 17,
     "metadata": {},
     "output_type": "execute_result"
    }
   ],
   "source": [
    "cuttingRope(2)"
   ]
  },
  {
   "cell_type": "code",
   "execution_count": 16,
   "metadata": {},
   "outputs": [
    {
     "data": {
      "text/plain": [
       "2"
      ]
     },
     "execution_count": 16,
     "metadata": {},
     "output_type": "execute_result"
    }
   ],
   "source": [
    "cuttingRope(3)"
   ]
  },
  {
   "cell_type": "markdown",
   "metadata": {},
   "source": [
    "空间on到o1\n",
    "\n",
    "\n",
    "每个数字可以拆成1 2 3，在dp里找对应的子绳子最大的乘积\n",
    "\n",
    "(i-1)%3, (i-2)%3, (i-3)%3\n",
    "\n",
    "i-1， i-2， i-3\n",
    "\n",
    "\n",
    "对3余数都是0， 1， 2\n",
    "\n",
    "用dp【0】 dp【1】 dp【2】表示大于3 的值。 mod3\n",
    "\n",
    "对在n内的数字，每次都更新算mod3最大的\n"
   ]
  },
  {
   "cell_type": "code",
   "execution_count": 22,
   "metadata": {},
   "outputs": [],
   "source": [
    "def cuttingRope(n):\n",
    "    dp = [0, 1, 1]\n",
    "    for i in range(3, n+1):\n",
    "        #lit into 1, 2, 3\n",
    "        dp[i%3] = max(1 * max(dp[(i-1)%3], i - 1), 2 * max(dp[(i-2)%3], i - 2), 3 * max(dp[(i-3)%3], i - 3))\n",
    "    return dp[n % 3]"
   ]
  },
  {
   "cell_type": "markdown",
   "metadata": {},
   "source": [
    "贪心法则：尽可能分解出多的 3，3 的个数为 a，得到余数 b 可能为 0，1，2\n",
    "\n",
    "b = 0，返回 3^a \n",
    "\n",
    "b = 1，我们将末尾的 3+1 分解成  2×2，因此返回 3^{a-1} *  4 \n",
    "\n",
    "b = 2，返回 3 ^ a * 2\n",
    "\n",
    "\n",
    "\n",
    "小于等于3时候，n-1\n",
    "\n"
   ]
  },
  {
   "cell_type": "markdown",
   "metadata": {},
   "source": [
    "\n",
    "\n",
    "\n",
    "\n",
    "给你一根长度为 n 的绳子，请把绳子剪成整数长度的 m 段（m、n都是整数，n>1并且m>1），每段绳子的长度记为 k[0],k[1]...k[m - 1] 。请问 k[0]*k[1]*...*k[m - 1] 可能的最大乘积是多少？例如，当绳子的长度是8时，我们把它剪成长度分别为2、3、3的三段，此时得到的最大乘积是18。\n",
    "\n",
    "答案需要取模 1e9+7（1000000007），如计算初始结果为：1000000008，请返回 1。\n",
    "\n",
    " 数学思路\n",
    " \n",
    "小于3 等于n-1\n",
    "\n",
    "1： 1\n",
    "\n",
    "2： 1 * 1\\\n",
    "3： 1 * 2\\\n",
    "4 ： 2 * 2（good）， 1 * 3\n",
    "\n",
    "5: 2 * 3, 1 * 1 * 3, 1 * 2 * 2, (split 3 best)\\\n",
    "不然大于3 的部分，拆分成3"
   ]
  },
  {
   "cell_type": "code",
   "execution_count": null,
   "metadata": {},
   "outputs": [],
   "source": [
    " def cuttingRope(self, n: int) -> int:\n",
    "        if n <= 3:\n",
    "            return n-1\n",
    "        if n == 4:\n",
    "            return n\n",
    "        else:\n",
    "            res = 1\n",
    "            while n > 4:\n",
    "                res *=  3\n",
    "                res %= 1000000007\n",
    "                n -= 3\n",
    "            return res * n % 1000000007"
   ]
  },
  {
   "cell_type": "markdown",
   "metadata": {},
   "source": [
    "请实现一个函数，输入一个整数（以二进制串形式），输出该数二进制表示中 1 的个数。例如，把 9 表示成二进制是 1001，有 2 位是 1。因此，如果输入 9，则该函数输出 2。\n"
   ]
  },
  {
   "cell_type": "markdown",
   "metadata": {},
   "source": [
    "判断 nn 最右一位是否为 11 ，根据结果计数。\n",
    "将 nn 右移一位（本题要求把数字 nn 看作无符号数，因此使用 无符号右移 操作）"
   ]
  },
  {
   "cell_type": "code",
   "execution_count": 67,
   "metadata": {},
   "outputs": [],
   "source": [
    " def hammingWeight( n):\n",
    "    count = 0\n",
    "    while n >0:\n",
    "        #remove the rightmost 1, count\n",
    "        n = n & ( n-1)\n",
    "        count += 1\n",
    "    return count"
   ]
  },
  {
   "cell_type": "markdown",
   "metadata": {},
   "source": [
    "若 n \\& 1 = 0 ，则 nn 二进制 最右一位 为 0 ；\n",
    "若 n \\& 1 = 1，则 nn 二进制 最右一位 为 1 "
   ]
  },
  {
   "cell_type": "code",
   "execution_count": 66,
   "metadata": {},
   "outputs": [
    {
     "data": {
      "text/plain": [
       "0"
      ]
     },
     "execution_count": 66,
     "metadata": {},
     "output_type": "execute_result"
    }
   ],
   "source": [
    "count = 0\n",
    "while n >0:\n",
    "        count += n & 1\n",
    "        n = n >>1\n",
    "       \n"
   ]
  },
  {
   "cell_type": "code",
   "execution_count": 54,
   "metadata": {},
   "outputs": [
    {
     "data": {
      "text/plain": [
       "1"
      ]
     },
     "execution_count": 54,
     "metadata": {},
     "output_type": "execute_result"
    }
   ],
   "source": [
    "n = 3\n",
    "3 & 2\n",
    "n >> 1"
   ]
  },
  {
   "cell_type": "code",
   "execution_count": 43,
   "metadata": {},
   "outputs": [
    {
     "data": {
      "text/plain": [
       "6"
      ]
     },
     "execution_count": 43,
     "metadata": {},
     "output_type": "execute_result"
    }
   ],
   "source": [
    "n << 1"
   ]
  },
  {
   "cell_type": "code",
   "execution_count": 44,
   "metadata": {},
   "outputs": [
    {
     "data": {
      "text/plain": [
       "6"
      ]
     },
     "execution_count": 44,
     "metadata": {},
     "output_type": "execute_result"
    }
   ],
   "source": [
    "n * 2\n",
    "n"
   ]
  },
  {
   "cell_type": "code",
   "execution_count": 62,
   "metadata": {},
   "outputs": [],
   "source": [
    "n = 31"
   ]
  },
  {
   "cell_type": "code",
   "execution_count": null,
   "metadata": {},
   "outputs": [],
   "source": []
  }
 ],
 "metadata": {
  "kernelspec": {
   "display_name": "Python 3",
   "language": "python",
   "name": "python3"
  },
  "language_info": {
   "codemirror_mode": {
    "name": "ipython",
    "version": 3
   },
   "file_extension": ".py",
   "mimetype": "text/x-python",
   "name": "python",
   "nbconvert_exporter": "python",
   "pygments_lexer": "ipython3",
   "version": "3.8.5"
  }
 },
 "nbformat": 4,
 "nbformat_minor": 4
}
